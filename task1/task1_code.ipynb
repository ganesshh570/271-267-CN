{
  "cells": [
    {
      "cell_type": "code",
      "execution_count": 5,
      "metadata": {
        "colab": {
          "base_uri": "https://localhost:8080/",
          "height": 564
        },
        "id": "AV4QyvynS-8F",
        "outputId": "f323090e-9eba-47b8-d5ce-2ce703a81682"
      },
      "outputs": [
        {
          "output_type": "stream",
          "name": "stdout",
          "text": [
            "👉 Please upload your 8.pcap file\n"
          ]
        },
        {
          "output_type": "display_data",
          "data": {
            "text/plain": [
              "<IPython.core.display.HTML object>"
            ],
            "text/html": [
              "\n",
              "     <input type=\"file\" id=\"files-15d8d604-d5e4-4dbf-8405-7bd85d72ea6f\" name=\"files[]\" multiple disabled\n",
              "        style=\"border:none\" />\n",
              "     <output id=\"result-15d8d604-d5e4-4dbf-8405-7bd85d72ea6f\">\n",
              "      Upload widget is only available when the cell has been executed in the\n",
              "      current browser session. Please rerun this cell to enable.\n",
              "      </output>\n",
              "      <script>// Copyright 2017 Google LLC\n",
              "//\n",
              "// Licensed under the Apache License, Version 2.0 (the \"License\");\n",
              "// you may not use this file except in compliance with the License.\n",
              "// You may obtain a copy of the License at\n",
              "//\n",
              "//      http://www.apache.org/licenses/LICENSE-2.0\n",
              "//\n",
              "// Unless required by applicable law or agreed to in writing, software\n",
              "// distributed under the License is distributed on an \"AS IS\" BASIS,\n",
              "// WITHOUT WARRANTIES OR CONDITIONS OF ANY KIND, either express or implied.\n",
              "// See the License for the specific language governing permissions and\n",
              "// limitations under the License.\n",
              "\n",
              "/**\n",
              " * @fileoverview Helpers for google.colab Python module.\n",
              " */\n",
              "(function(scope) {\n",
              "function span(text, styleAttributes = {}) {\n",
              "  const element = document.createElement('span');\n",
              "  element.textContent = text;\n",
              "  for (const key of Object.keys(styleAttributes)) {\n",
              "    element.style[key] = styleAttributes[key];\n",
              "  }\n",
              "  return element;\n",
              "}\n",
              "\n",
              "// Max number of bytes which will be uploaded at a time.\n",
              "const MAX_PAYLOAD_SIZE = 100 * 1024;\n",
              "\n",
              "function _uploadFiles(inputId, outputId) {\n",
              "  const steps = uploadFilesStep(inputId, outputId);\n",
              "  const outputElement = document.getElementById(outputId);\n",
              "  // Cache steps on the outputElement to make it available for the next call\n",
              "  // to uploadFilesContinue from Python.\n",
              "  outputElement.steps = steps;\n",
              "\n",
              "  return _uploadFilesContinue(outputId);\n",
              "}\n",
              "\n",
              "// This is roughly an async generator (not supported in the browser yet),\n",
              "// where there are multiple asynchronous steps and the Python side is going\n",
              "// to poll for completion of each step.\n",
              "// This uses a Promise to block the python side on completion of each step,\n",
              "// then passes the result of the previous step as the input to the next step.\n",
              "function _uploadFilesContinue(outputId) {\n",
              "  const outputElement = document.getElementById(outputId);\n",
              "  const steps = outputElement.steps;\n",
              "\n",
              "  const next = steps.next(outputElement.lastPromiseValue);\n",
              "  return Promise.resolve(next.value.promise).then((value) => {\n",
              "    // Cache the last promise value to make it available to the next\n",
              "    // step of the generator.\n",
              "    outputElement.lastPromiseValue = value;\n",
              "    return next.value.response;\n",
              "  });\n",
              "}\n",
              "\n",
              "/**\n",
              " * Generator function which is called between each async step of the upload\n",
              " * process.\n",
              " * @param {string} inputId Element ID of the input file picker element.\n",
              " * @param {string} outputId Element ID of the output display.\n",
              " * @return {!Iterable<!Object>} Iterable of next steps.\n",
              " */\n",
              "function* uploadFilesStep(inputId, outputId) {\n",
              "  const inputElement = document.getElementById(inputId);\n",
              "  inputElement.disabled = false;\n",
              "\n",
              "  const outputElement = document.getElementById(outputId);\n",
              "  outputElement.innerHTML = '';\n",
              "\n",
              "  const pickedPromise = new Promise((resolve) => {\n",
              "    inputElement.addEventListener('change', (e) => {\n",
              "      resolve(e.target.files);\n",
              "    });\n",
              "  });\n",
              "\n",
              "  const cancel = document.createElement('button');\n",
              "  inputElement.parentElement.appendChild(cancel);\n",
              "  cancel.textContent = 'Cancel upload';\n",
              "  const cancelPromise = new Promise((resolve) => {\n",
              "    cancel.onclick = () => {\n",
              "      resolve(null);\n",
              "    };\n",
              "  });\n",
              "\n",
              "  // Wait for the user to pick the files.\n",
              "  const files = yield {\n",
              "    promise: Promise.race([pickedPromise, cancelPromise]),\n",
              "    response: {\n",
              "      action: 'starting',\n",
              "    }\n",
              "  };\n",
              "\n",
              "  cancel.remove();\n",
              "\n",
              "  // Disable the input element since further picks are not allowed.\n",
              "  inputElement.disabled = true;\n",
              "\n",
              "  if (!files) {\n",
              "    return {\n",
              "      response: {\n",
              "        action: 'complete',\n",
              "      }\n",
              "    };\n",
              "  }\n",
              "\n",
              "  for (const file of files) {\n",
              "    const li = document.createElement('li');\n",
              "    li.append(span(file.name, {fontWeight: 'bold'}));\n",
              "    li.append(span(\n",
              "        `(${file.type || 'n/a'}) - ${file.size} bytes, ` +\n",
              "        `last modified: ${\n",
              "            file.lastModifiedDate ? file.lastModifiedDate.toLocaleDateString() :\n",
              "                                    'n/a'} - `));\n",
              "    const percent = span('0% done');\n",
              "    li.appendChild(percent);\n",
              "\n",
              "    outputElement.appendChild(li);\n",
              "\n",
              "    const fileDataPromise = new Promise((resolve) => {\n",
              "      const reader = new FileReader();\n",
              "      reader.onload = (e) => {\n",
              "        resolve(e.target.result);\n",
              "      };\n",
              "      reader.readAsArrayBuffer(file);\n",
              "    });\n",
              "    // Wait for the data to be ready.\n",
              "    let fileData = yield {\n",
              "      promise: fileDataPromise,\n",
              "      response: {\n",
              "        action: 'continue',\n",
              "      }\n",
              "    };\n",
              "\n",
              "    // Use a chunked sending to avoid message size limits. See b/62115660.\n",
              "    let position = 0;\n",
              "    do {\n",
              "      const length = Math.min(fileData.byteLength - position, MAX_PAYLOAD_SIZE);\n",
              "      const chunk = new Uint8Array(fileData, position, length);\n",
              "      position += length;\n",
              "\n",
              "      const base64 = btoa(String.fromCharCode.apply(null, chunk));\n",
              "      yield {\n",
              "        response: {\n",
              "          action: 'append',\n",
              "          file: file.name,\n",
              "          data: base64,\n",
              "        },\n",
              "      };\n",
              "\n",
              "      let percentDone = fileData.byteLength === 0 ?\n",
              "          100 :\n",
              "          Math.round((position / fileData.byteLength) * 100);\n",
              "      percent.textContent = `${percentDone}% done`;\n",
              "\n",
              "    } while (position < fileData.byteLength);\n",
              "  }\n",
              "\n",
              "  // All done.\n",
              "  yield {\n",
              "    response: {\n",
              "      action: 'complete',\n",
              "    }\n",
              "  };\n",
              "}\n",
              "\n",
              "scope.google = scope.google || {};\n",
              "scope.google.colab = scope.google.colab || {};\n",
              "scope.google.colab._files = {\n",
              "  _uploadFiles,\n",
              "  _uploadFilesContinue,\n",
              "};\n",
              "})(self);\n",
              "</script> "
            ]
          },
          "metadata": {}
        },
        {
          "output_type": "stream",
          "name": "stdout",
          "text": [
            "Saving 8.pcap to 8.pcap\n",
            "✅ Found 23 DNS query packets\n",
            "\n",
            "Query: _apple-mobdev._tcp.local., Custom Header: 14270300\n",
            "Query: _apple-mobdev._tcp.local., Custom Header: 14270301\n",
            "Query: github.com., Custom Header: 14270302\n",
            "Query: Brother MFC-7860DW._pdl-datastream._tcp.local., Custom Header: 14270303\n",
            "Query: Brother MFC-7860DW._pdl-datastream._tcp.local., Custom Header: 14270304\n",
            "Query: bing.com., Custom Header: 14270305\n",
            "Query: facebook.com., Custom Header: 14270306\n",
            "Query: Brother MFC-7860DW._pdl-datastream._tcp.local., Custom Header: 14270307\n",
            "Query: Brother MFC-7860DW._pdl-datastream._tcp.local., Custom Header: 14270308\n",
            "Query: amazon.com., Custom Header: 14270309\n",
            "Query: _apple-mobdev._tcp.local., Custom Header: 14270310\n",
            "Query: Brother MFC-7860DW._pdl-datastream._tcp.local., Custom Header: 14270311\n",
            "Query: Brother MFC-7860DW._pdl-datastream._tcp.local., Custom Header: 14270312\n",
            "Query: linkedin.com., Custom Header: 14270313\n",
            "Query: Brother MFC-7860DW._pdl-datastream._tcp.local., Custom Header: 14270314\n",
            "Query: Brother MFC-7860DW._pdl-datastream._tcp.local., Custom Header: 14270315\n",
            "Query: _apple-mobdev._tcp.local., Custom Header: 14270316\n",
            "Query: _apple-mobdev._tcp.local., Custom Header: 14270317\n",
            "Query: stackoverflow.com., Custom Header: 14270318\n",
            "Query: Brother MFC-7860DW._pdl-datastream._tcp.local., Custom Header: 14270319\n",
            "Query: Brother MFC-7860DW._pdl-datastream._tcp.local., Custom Header: 14270320\n",
            "Query: Brother MFC-7860DW._pdl-datastream._tcp.local., Custom Header: 14270321\n",
            "Query: Brother MFC-7860DW._pdl-datastream._tcp.local., Custom Header: 14270322\n"
          ]
        }
      ],
      "source": [
        "from google.colab import files\n",
        "from scapy.all import rdpcap, DNS, DNSQR\n",
        "import datetime\n",
        "\n",
        "# Step 1: Upload the pcap file\n",
        "print(\"👉 Please upload your 8.pcap file\")\n",
        "uploaded = files.upload()\n",
        "\n",
        "# Step 2: Path to uploaded file\n",
        "PCAP_FILE = list(uploaded.keys())[0]  # automatically picks the uploaded file\n",
        "\n",
        "def build_custom_header(seq_id: int) -> str:\n",
        "    \"\"\"Builds 8-byte custom header in format HHMMSSID\"\"\"\n",
        "    now = datetime.datetime.now()\n",
        "    header = f\"{now.hour:02d}{now.minute:02d}{now.second:02d}{seq_id:02d}\"\n",
        "    return header\n",
        "\n",
        "def main():\n",
        "    # Read pcap\n",
        "    packets = rdpcap(PCAP_FILE)\n",
        "\n",
        "    # Filter DNS query packets\n",
        "    dns_queries = [pkt for pkt in packets if pkt.haslayer(DNS) and pkt[DNS].qd is not None and pkt[DNS].qr == 0]\n",
        "\n",
        "    print(f\"✅ Found {len(dns_queries)} DNS query packets\\n\")\n",
        "\n",
        "    # Print each query with custom header\n",
        "    for i, pkt in enumerate(dns_queries):\n",
        "        query_name = pkt[DNSQR].qname.decode(errors=\"ignore\")\n",
        "        custom_header = build_custom_header(i)\n",
        "        print(f\"Query: {query_name}, Custom Header: {custom_header}\")\n",
        "\n",
        "if __name__ == \"__main__\":\n",
        "    main()\n"
      ]
    },
    {
      "cell_type": "code",
      "execution_count": 10,
      "metadata": {
        "id": "qBZszFmUZlUz",
        "colab": {
          "base_uri": "https://localhost:8080/"
        },
        "outputId": "e92a0f5d-8c0e-4095-ea89-964e5e8ee1bc"
      },
      "outputs": [
        {
          "output_type": "stream",
          "name": "stdout",
          "text": [
            "Final Report Table:\n",
            "\n",
            "Query                                    | Custom Header | Resolved IP\n",
            "----------------------------------------------------------------------\n",
            "_apple-mobdev._tcp.local.                | 15384900     | 224.0.0.251\n",
            "_apple-mobdev._tcp.local.                | 15384901     | 224.0.0.251\n",
            "github.com.                              | 15391002     | 140.82.113.3\n",
            "Brother MFC-7860DW._pdl-datastream._tcp.local. | 15392303     | 192.168.1.50\n",
            "Brother MFC-7860DW._pdl-datastream._tcp.local. | 15392404     | 192.168.1.50\n",
            "bing.com.                                | 15392905     | 204.79.197.200\n",
            "facebook.com.                            | 15395606     | 157.240.22.35\n",
            "Brother MFC-7860DW._pdl-datastream._tcp.local. | 15401107     | 192.168.1.50\n",
            "Brother MFC-7860DW._pdl-datastream._tcp.local. | 15401208     | 192.168.1.50\n",
            "amazon.com.                              | 15403709     | 176.32.103.205\n",
            "_apple-mobdev._tcp.local.                | 15405810     | 224.0.0.251\n",
            "Brother MFC-7860DW._pdl-datastream._tcp.local. | 15410211     | 192.168.1.50\n",
            "Brother MFC-7860DW._pdl-datastream._tcp.local. | 15410212     | 192.168.1.50\n",
            "linkedin.com.                            | 15412013     | 108.174.10.10\n",
            "Brother MFC-7860DW._pdl-datastream._tcp.local. | 15414014     | 192.168.1.50\n",
            "Brother MFC-7860DW._pdl-datastream._tcp.local. | 15414015     | 192.168.1.50\n",
            "_apple-mobdev._tcp.local.                | 15414716     | 224.0.0.251\n",
            "_apple-mobdev._tcp.local.                | 15414717     | 224.0.0.251\n",
            "stackoverflow.com.                       | 15420518     | 151.101.193.69\n",
            "Brother MFC-7860DW._pdl-datastream._tcp.local. | 15421819     | 192.168.1.50\n",
            "Brother MFC-7860DW._pdl-datastream._tcp.local. | 15421920     | 192.168.1.50\n",
            "Brother MFC-7860DW._pdl-datastream._tcp.local. | 15422221     | 192.168.1.50\n",
            "Brother MFC-7860DW._pdl-datastream._tcp.local. | 15422322     | 192.168.1.50\n",
            "\n",
            "📂 Report saved as dns_report.csv\n"
          ]
        }
      ],
      "source": [
        "from scapy.all import PcapReader, DNS, DNSQR\n",
        "import datetime\n",
        "import pandas as pd\n",
        "\n",
        "PCAP_FILE = \"8.pcap\"\n",
        "\n",
        "def build_custom_header(seq_id: int) -> str:\n",
        "    now = datetime.datetime.now()\n",
        "    return f\"{now.hour:02d}{now.minute:02d}{now.second:02d}{seq_id:02d}\"\n",
        "\n",
        "# Define fake resolution rules\n",
        "resolution_rules = {\n",
        "    \"github.com.\": \"140.82.113.3\",\n",
        "    \"bing.com.\": \"204.79.197.200\",\n",
        "    \"facebook.com.\": \"157.240.22.35\",\n",
        "    \"amazon.com.\": \"176.32.103.205\",\n",
        "    \"linkedin.com.\": \"108.174.10.10\",\n",
        "    \"stackoverflow.com.\": \"151.101.193.69\",\n",
        "    \"_apple-mobdev._tcp.local.\": \"224.0.0.251\",\n",
        "    \"Brother MFC-7860DW._pdl-datastream._tcp.local.\": \"192.168.1.50\",\n",
        "}\n",
        "\n",
        "report = []\n",
        "seq = 0\n",
        "\n",
        "# Use PcapReader (streams packets instead of loading whole file)\n",
        "with PcapReader(PCAP_FILE) as pcap:\n",
        "    for pkt in pcap:\n",
        "        if pkt.haslayer(DNS) and pkt[DNS].qd is not None and pkt[DNS].qr == 0:\n",
        "            query_name = pkt[DNSQR].qname.decode(errors=\"ignore\")\n",
        "            header = build_custom_header(seq)\n",
        "            resolved_ip = resolution_rules.get(query_name, \"0.0.0.0\")\n",
        "            report.append((query_name, header, resolved_ip))\n",
        "            seq += 1\n",
        "        if seq >= 30:  # stop after 30 queries for speed (adjust if needed)\n",
        "            break\n",
        "\n",
        "# Print report\n",
        "print(\"Final Report Table:\\n\")\n",
        "print(f\"{'Query':40} | {'Custom Header':12} | {'Resolved IP'}\")\n",
        "print(\"-\"*70)\n",
        "for row in report:\n",
        "    print(f\"{row[0]:40} | {row[1]:12} | {row[2]}\")\n",
        "\n",
        "# Save report\n",
        "df = pd.DataFrame(report, columns=[\"Query\", \"Custom Header\", \"Resolved IP\"])\n",
        "df.to_csv(\"dns_report.csv\", index=False)\n",
        "print(\"\\n📂 Report saved as dns_report.csv\")\n"
      ]
    },
    {
      "cell_type": "code",
      "execution_count": 12,
      "metadata": {
        "id": "sD5WQIwvbYiw",
        "colab": {
          "base_uri": "https://localhost:8080/",
          "height": 17
        },
        "outputId": "141365f2-582d-4cc5-cc2d-692f11fb1400"
      },
      "outputs": [
        {
          "output_type": "display_data",
          "data": {
            "text/plain": [
              "<IPython.core.display.Javascript object>"
            ],
            "application/javascript": [
              "\n",
              "    async function download(id, filename, size) {\n",
              "      if (!google.colab.kernel.accessAllowed) {\n",
              "        return;\n",
              "      }\n",
              "      const div = document.createElement('div');\n",
              "      const label = document.createElement('label');\n",
              "      label.textContent = `Downloading \"${filename}\": `;\n",
              "      div.appendChild(label);\n",
              "      const progress = document.createElement('progress');\n",
              "      progress.max = size;\n",
              "      div.appendChild(progress);\n",
              "      document.body.appendChild(div);\n",
              "\n",
              "      const buffers = [];\n",
              "      let downloaded = 0;\n",
              "\n",
              "      const channel = await google.colab.kernel.comms.open(id);\n",
              "      // Send a message to notify the kernel that we're ready.\n",
              "      channel.send({})\n",
              "\n",
              "      for await (const message of channel.messages) {\n",
              "        // Send a message to notify the kernel that we're ready.\n",
              "        channel.send({})\n",
              "        if (message.buffers) {\n",
              "          for (const buffer of message.buffers) {\n",
              "            buffers.push(buffer);\n",
              "            downloaded += buffer.byteLength;\n",
              "            progress.value = downloaded;\n",
              "          }\n",
              "        }\n",
              "      }\n",
              "      const blob = new Blob(buffers, {type: 'application/binary'});\n",
              "      const a = document.createElement('a');\n",
              "      a.href = window.URL.createObjectURL(blob);\n",
              "      a.download = filename;\n",
              "      div.appendChild(a);\n",
              "      a.click();\n",
              "      div.remove();\n",
              "    }\n",
              "  "
            ]
          },
          "metadata": {}
        },
        {
          "output_type": "display_data",
          "data": {
            "text/plain": [
              "<IPython.core.display.Javascript object>"
            ],
            "application/javascript": [
              "download(\"download_e55d1711-8c3b-4475-8081-a9b7c1ca1185\", \"dns_report.csv\", 1316)"
            ]
          },
          "metadata": {}
        }
      ],
      "source": [
        "from google.colab import files\n",
        "files.download(\"dns_report.csv\")\n"
      ]
    },
    {
      "cell_type": "code",
      "execution_count": 14,
      "metadata": {
        "id": "We9PDj7Nwx1Z",
        "colab": {
          "base_uri": "https://localhost:8080/",
          "height": 17
        },
        "outputId": "88d638b2-de6e-4054-da67-7abe1a738cf4"
      },
      "outputs": [
        {
          "output_type": "display_data",
          "data": {
            "text/plain": [
              "<IPython.core.display.Javascript object>"
            ],
            "application/javascript": [
              "\n",
              "    async function download(id, filename, size) {\n",
              "      if (!google.colab.kernel.accessAllowed) {\n",
              "        return;\n",
              "      }\n",
              "      const div = document.createElement('div');\n",
              "      const label = document.createElement('label');\n",
              "      label.textContent = `Downloading \"${filename}\": `;\n",
              "      div.appendChild(label);\n",
              "      const progress = document.createElement('progress');\n",
              "      progress.max = size;\n",
              "      div.appendChild(progress);\n",
              "      document.body.appendChild(div);\n",
              "\n",
              "      const buffers = [];\n",
              "      let downloaded = 0;\n",
              "\n",
              "      const channel = await google.colab.kernel.comms.open(id);\n",
              "      // Send a message to notify the kernel that we're ready.\n",
              "      channel.send({})\n",
              "\n",
              "      for await (const message of channel.messages) {\n",
              "        // Send a message to notify the kernel that we're ready.\n",
              "        channel.send({})\n",
              "        if (message.buffers) {\n",
              "          for (const buffer of message.buffers) {\n",
              "            buffers.push(buffer);\n",
              "            downloaded += buffer.byteLength;\n",
              "            progress.value = downloaded;\n",
              "          }\n",
              "        }\n",
              "      }\n",
              "      const blob = new Blob(buffers, {type: 'application/binary'});\n",
              "      const a = document.createElement('a');\n",
              "      a.href = window.URL.createObjectURL(blob);\n",
              "      a.download = filename;\n",
              "      div.appendChild(a);\n",
              "      a.click();\n",
              "      div.remove();\n",
              "    }\n",
              "  "
            ]
          },
          "metadata": {}
        },
        {
          "output_type": "display_data",
          "data": {
            "text/plain": [
              "<IPython.core.display.Javascript object>"
            ],
            "application/javascript": [
              "download(\"download_cda487c4-a8f2-4ab2-bddd-8b5731d7d507\", \"dns_report.csv\", 1316)"
            ]
          },
          "metadata": {}
        }
      ],
      "source": [
        "from google.colab import files\n",
        "# files.download(\"filename.py\")   # code file\n",
        "files.download(\"dns_report.csv\")    # CSV file"
      ]
    },
    {
      "cell_type": "code",
      "execution_count": 3,
      "metadata": {
        "colab": {
          "base_uri": "https://localhost:8080/"
        },
        "id": "283eadfc",
        "outputId": "9c30bfab-095d-4029-a730-7826f847fed0"
      },
      "outputs": [
        {
          "output_type": "stream",
          "name": "stdout",
          "text": [
            "Collecting scapy\n",
            "  Downloading scapy-2.6.1-py3-none-any.whl.metadata (5.6 kB)\n",
            "Downloading scapy-2.6.1-py3-none-any.whl (2.4 MB)\n",
            "\u001b[?25l   \u001b[90m━━━━━━━━━━━━━━━━━━━━━━━━━━━━━━━━━━━━━━━━\u001b[0m \u001b[32m0.0/2.4 MB\u001b[0m \u001b[31m?\u001b[0m eta \u001b[36m-:--:--\u001b[0m\r\u001b[2K   \u001b[91m━━━━━━━━━━━━━━━━━━━━━━━━━━━━━━━━━━━━━━━\u001b[0m\u001b[91m╸\u001b[0m \u001b[32m2.4/2.4 MB\u001b[0m \u001b[31m109.3 MB/s\u001b[0m eta \u001b[36m0:00:01\u001b[0m\r\u001b[2K   \u001b[90m━━━━━━━━━━━━━━━━━━━━━━━━━━━━━━━━━━━━━━━━\u001b[0m \u001b[32m2.4/2.4 MB\u001b[0m \u001b[31m60.6 MB/s\u001b[0m eta \u001b[36m0:00:00\u001b[0m\n",
            "\u001b[?25hInstalling collected packages: scapy\n",
            "Successfully installed scapy-2.6.1\n"
          ]
        }
      ],
      "source": [
        "!pip install scapy"
      ]
    }
  ],
  "metadata": {
    "colab": {
      "provenance": []
    },
    "kernelspec": {
      "display_name": "Python 3",
      "name": "python3"
    },
    "language_info": {
      "name": "python"
    }
  },
  "nbformat": 4,
  "nbformat_minor": 0
}